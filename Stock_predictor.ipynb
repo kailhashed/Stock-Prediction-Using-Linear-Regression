{
 "cells": [
  {
   "cell_type": "markdown",
   "id": "02ac43fa",
   "metadata": {},
   "source": [
    "# Stock Analysis and Prediction\n",
    "\n",
    "This notebook contains tools for analyzing stock data and making predictions."
   ]
  },
  {
   "cell_type": "code",
   "execution_count": 2,
   "id": "21416320",
   "metadata": {},
   "outputs": [
    {
     "ename": "ModuleNotFoundError",
     "evalue": "No module named 'matplotlib'",
     "output_type": "error",
     "traceback": [
      "\u001b[0;31m---------------------------------------------------------------------------\u001b[0m",
      "\u001b[0;31mModuleNotFoundError\u001b[0m                       Traceback (most recent call last)",
      "Cell \u001b[0;32mIn[2], line 4\u001b[0m\n\u001b[1;32m      2\u001b[0m \u001b[38;5;28;01mimport\u001b[39;00m\u001b[38;5;250m \u001b[39m\u001b[38;5;21;01mpandas\u001b[39;00m\u001b[38;5;250m \u001b[39m\u001b[38;5;28;01mas\u001b[39;00m\u001b[38;5;250m \u001b[39m\u001b[38;5;21;01mpd\u001b[39;00m\n\u001b[1;32m      3\u001b[0m \u001b[38;5;28;01mimport\u001b[39;00m\u001b[38;5;250m \u001b[39m\u001b[38;5;21;01mnumpy\u001b[39;00m\u001b[38;5;250m \u001b[39m\u001b[38;5;28;01mas\u001b[39;00m\u001b[38;5;250m \u001b[39m\u001b[38;5;21;01mnp\u001b[39;00m\n\u001b[0;32m----> 4\u001b[0m \u001b[38;5;28;01mimport\u001b[39;00m\u001b[38;5;250m \u001b[39m\u001b[38;5;21;01mmatplotlib\u001b[39;00m\u001b[38;5;21;01m.\u001b[39;00m\u001b[38;5;21;01mpyplot\u001b[39;00m\u001b[38;5;250m \u001b[39m\u001b[38;5;28;01mas\u001b[39;00m\u001b[38;5;250m \u001b[39m\u001b[38;5;21;01mplt\u001b[39;00m\n\u001b[1;32m      5\u001b[0m \u001b[38;5;28;01mimport\u001b[39;00m\u001b[38;5;250m \u001b[39m\u001b[38;5;21;01mseaborn\u001b[39;00m\u001b[38;5;250m \u001b[39m\u001b[38;5;28;01mas\u001b[39;00m\u001b[38;5;250m \u001b[39m\u001b[38;5;21;01msns\u001b[39;00m\n\u001b[1;32m      6\u001b[0m \u001b[38;5;28;01mimport\u001b[39;00m\u001b[38;5;250m \u001b[39m\u001b[38;5;21;01myfinance\u001b[39;00m\u001b[38;5;250m \u001b[39m\u001b[38;5;28;01mas\u001b[39;00m\u001b[38;5;250m \u001b[39m\u001b[38;5;21;01myf\u001b[39;00m\n",
      "\u001b[0;31mModuleNotFoundError\u001b[0m: No module named 'matplotlib'"
     ]
    }
   ],
   "source": [
    "# Import required libraries\n",
    "import pandas as pd\n",
    "import numpy as np\n",
    "import matplotlib.pyplot as plt\n",
    "import seaborn as sns\n",
    "import yfinance as yf\n",
    "from datetime import datetime, timedelta\n",
    "from sklearn.model_selection import train_test_split\n",
    "from sklearn.linear_model import LinearRegression\n",
    "from sklearn.metrics import mean_squared_error, r2_score\n",
    "\n",
    "# Set visualization styles\n",
    "try:\n",
    "    plt.style.use(\"seaborn-v0_8-darkgrid\")\n",
    "except:\n",
    "    plt.style.use(\"seaborn-darkgrid\")  # Fallback\n",
    "sns.set_theme(style=\"darkgrid\")"
   ]
  },
  {
   "cell_type": "markdown",
   "id": "a0aaaa3e",
   "metadata": {},
   "source": [
    "## Data Collection\n",
    "\n",
    "We'll use Yahoo Finance to fetch stock data."
   ]
  },
  {
   "cell_type": "code",
   "execution_count": 11,
   "id": "4edde681",
   "metadata": {},
   "outputs": [
    {
     "ename": "NameError",
     "evalue": "name 'datetime' is not defined",
     "output_type": "error",
     "traceback": [
      "\u001b[0;31m---------------------------------------------------------------------------\u001b[0m",
      "\u001b[0;31mNameError\u001b[0m                                 Traceback (most recent call last)",
      "Cell \u001b[0;32mIn[11], line 3\u001b[0m\n\u001b[1;32m      1\u001b[0m \u001b[38;5;66;03m# Define stock symbol and date range\u001b[39;00m\n\u001b[1;32m      2\u001b[0m stock_symbol \u001b[38;5;241m=\u001b[39m \u001b[38;5;124m'\u001b[39m\u001b[38;5;124m^NSEI\u001b[39m\u001b[38;5;124m'\u001b[39m  \u001b[38;5;66;03m# Apple Inc.\u001b[39;00m\n\u001b[0;32m----> 3\u001b[0m start_date \u001b[38;5;241m=\u001b[39m \u001b[43mdatetime\u001b[49m\u001b[38;5;241m.\u001b[39mnow() \u001b[38;5;241m-\u001b[39m timedelta(days\u001b[38;5;241m=\u001b[39m\u001b[38;5;241m365\u001b[39m\u001b[38;5;241m*\u001b[39m\u001b[38;5;241m5\u001b[39m)  \u001b[38;5;66;03m# 5 years of data\u001b[39;00m\n\u001b[1;32m      4\u001b[0m end_date \u001b[38;5;241m=\u001b[39m datetime\u001b[38;5;241m.\u001b[39mnow()\n\u001b[1;32m      6\u001b[0m \u001b[38;5;66;03m# Fetch data\u001b[39;00m\n",
      "\u001b[0;31mNameError\u001b[0m: name 'datetime' is not defined"
     ]
    }
   ],
   "source": [
    "# Define stock symbol and date range\n",
    "stock_symbol = '^NSEI'  # Apple Inc.\n",
    "start_date = datetime.now() - timedelta(days=365*5)  # 5 years of data\n",
    "end_date = datetime.now()\n",
    "\n",
    "# Fetch data\n",
    "stock_data = yf.download(stock_symbol, start=start_date, end=end_date)\n",
    "\n",
    "# Display the first few rows\n",
    "stock_data.head()"
   ]
  },
  {
   "cell_type": "markdown",
   "id": "424ae075",
   "metadata": {},
   "source": [
    "## Data Visualization\n",
    "\n",
    "Let's visualize the stock price history."
   ]
  },
  {
   "cell_type": "code",
   "execution_count": null,
   "id": "74006ae1",
   "metadata": {},
   "outputs": [],
   "source": [
    "# Plot closing price\n",
    "plt.figure(figsize=(14, 7))\n",
    "plt.plot(stock_data['Close'])\n",
    "plt.title(f'{stock_symbol} Stock Price History')\n",
    "plt.xlabel('Date')\n",
    "plt.ylabel('Close Price (USD)')\n",
    "plt.grid(True)\n",
    "plt.show()"
   ]
  },
  {
   "cell_type": "markdown",
   "id": "45fec6c4",
   "metadata": {},
   "source": [
    "## Feature Engineering\n",
    "\n",
    "Let's create some features for our prediction model."
   ]
  },
  {
   "cell_type": "code",
   "execution_count": null,
   "id": "959552a9",
   "metadata": {},
   "outputs": [],
   "source": [
    "# Add rolling mean features\n",
    "stock_data['MA50'] = stock_data['Close'].rolling(window=50).mean()\n",
    "stock_data['MA200'] = stock_data['Close'].rolling(window=200).mean()\n",
    "\n",
    "# Add price momentum (daily returns)\n",
    "stock_data['Returns'] = stock_data['Close'].pct_change()\n",
    "\n",
    "# Add volatility (rolling standard deviation)\n",
    "stock_data['Volatility'] = stock_data['Returns'].rolling(window=20).std()\n",
    "\n",
    "# Drop NaN values\n",
    "stock_data = stock_data.dropna()\n",
    "\n",
    "# Display the data with new features\n",
    "stock_data.head()"
   ]
  },
  {
   "cell_type": "markdown",
   "id": "89911de8",
   "metadata": {},
   "source": [
    "## Prediction Model\n",
    "\n",
    "Create a simple linear regression model to predict future stock prices."
   ]
  },
  {
   "cell_type": "code",
   "execution_count": null,
   "id": "fd67b1d8",
   "metadata": {},
   "outputs": [],
   "source": [
    "# Create features and target\n",
    "# Predict next day's closing price\n",
    "stock_data['Target'] = stock_data['Close'].shift(-1)\n",
    "stock_data = stock_data.dropna()\n",
    "\n",
    "# Select features\n",
    "features = ['Close', 'MA50', 'MA200', 'Returns', 'Volatility']\n",
    "X = stock_data[features]\n",
    "y = stock_data['Target']\n",
    "\n",
    "# Split data into training and testing sets\n",
    "X_train, X_test, y_train, y_test = train_test_split(X, y, test_size=0.2, random_state=42)\n",
    "\n",
    "# Create and train the model\n",
    "model = LinearRegression()\n",
    "model.fit(X_train, y_train)\n",
    "\n",
    "# Make predictions\n",
    "predictions = model.predict(X_test)\n",
    "\n",
    "# Evaluate the model\n",
    "mse = mean_squared_error(y_test, predictions)\n",
    "r2 = r2_score(y_test, predictions)\n",
    "\n",
    "print(f'Mean Squared Error: {mse:.2f}')\n",
    "print(f'R-squared: {r2:.2f}')"
   ]
  },
  {
   "cell_type": "markdown",
   "id": "5472a212",
   "metadata": {},
   "source": [
    "## Visualization of Predictions\n",
    "\n",
    "Compare actual vs predicted values."
   ]
  },
  {
   "cell_type": "code",
   "execution_count": null,
   "id": "1051377c",
   "metadata": {},
   "outputs": [],
   "source": [
    "# Create a DataFrame with actual and predicted values\n",
    "results = pd.DataFrame({'Actual': y_test, 'Predicted': predictions})\n",
    "results = results.sort_index()\n",
    "\n",
    "# Plot actual vs predicted\n",
    "plt.figure(figsize=(14, 7))\n",
    "plt.plot(results.index, results['Actual'], label='Actual')\n",
    "plt.plot(results.index, results['Predicted'], label='Predicted', alpha=0.7)\n",
    "plt.title(f'{stock_symbol} - Actual vs Predicted Prices')\n",
    "plt.xlabel('Date')\n",
    "plt.ylabel('Stock Price (USD)')\n",
    "plt.legend()\n",
    "plt.grid(True)\n",
    "plt.show()"
   ]
  },
  {
   "cell_type": "markdown",
   "id": "ea9d70ad",
   "metadata": {},
   "source": [
    "## Future Predictions\n",
    "\n",
    "Predict the stock price for the next trading day."
   ]
  },
  {
   "cell_type": "code",
   "execution_count": null,
   "id": "60f811be",
   "metadata": {},
   "outputs": [],
   "source": [
    "# Get the latest data point\n",
    "latest_data = stock_data[features].iloc[-1].values.reshape(1, -1)\n",
    "\n",
    "# Make prediction for the next day\n",
    "next_day_prediction = model.predict(latest_data)[0]\n",
    "\n",
    "print(f'Last Close Price: ${stock_data[\"Close\"].iloc[-1]:.2f}')\n",
    "print(f'Predicted Next Day Price: ${next_day_prediction:.2f}')\n",
    "print(f'Predicted Change: {((next_day_prediction / stock_data[\"Close\"].iloc[-1]) - 1) * 100:.2f}%')"
   ]
  }
 ],
 "metadata": {
  "kernelspec": {
   "display_name": "Python 3",
   "language": "python",
   "name": "python3"
  },
  "language_info": {
   "codemirror_mode": {
    "name": "ipython",
    "version": 3
   },
   "file_extension": ".py",
   "mimetype": "text/x-python",
   "name": "python",
   "nbconvert_exporter": "python",
   "pygments_lexer": "ipython3",
   "version": "3.9.6"
  }
 },
 "nbformat": 4,
 "nbformat_minor": 5
}
